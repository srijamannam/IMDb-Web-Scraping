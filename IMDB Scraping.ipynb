{
 "cells": [
  {
   "cell_type": "code",
   "execution_count": 16,
   "id": "52471452",
   "metadata": {},
   "outputs": [],
   "source": [
    "import pandas as pd \n",
    "import numpy as np\n",
    "\n",
    "import requests\n",
    "from bs4 import BeautifulSoup\n",
    "\n",
    "from time import sleep \n",
    "from random import randint"
   ]
  },
  {
   "cell_type": "code",
   "execution_count": 17,
   "id": "7e97a131",
   "metadata": {},
   "outputs": [],
   "source": [
    "headers ={ \"Accept-Language\": \"en-US,en;q=0.5\"}"
   ]
  },
  {
   "cell_type": "code",
   "execution_count": 18,
   "id": "103c278a",
   "metadata": {},
   "outputs": [],
   "source": [
    "url = 'https://www.imdb.com/search/title/?count=100&groups=top_1000&sort=user_rating'\n",
    "\n",
    "response = requests.get(url)"
   ]
  },
  {
   "cell_type": "code",
   "execution_count": 19,
   "id": "2ef19ff6",
   "metadata": {},
   "outputs": [],
   "source": [
    "soup = BeautifulSoup(response.content, \"html.parser\")"
   ]
  },
  {
   "cell_type": "code",
   "execution_count": 20,
   "id": "8494b39b",
   "metadata": {},
   "outputs": [],
   "source": [
    "pages = np.arange(1,1000,100)"
   ]
  },
  {
   "cell_type": "code",
   "execution_count": 21,
   "id": "ca5da304",
   "metadata": {},
   "outputs": [],
   "source": [
    "movie_name = []\n",
    "time =[]\n",
    "year =[]\n",
    "rating =[]\n",
    "metascore =[]\n",
    "votes =[]\n",
    "gross =[]\n",
    "description=[]\n",
    "\n",
    "for page in pages:\n",
    "    page = requests.get(url)\n",
    "    soup = BeautifulSoup(page.text, \"html.parser\")\n",
    "    \n",
    "    movie_data = soup.findAll(\"div\",attrs ={ 'class': 'lister-item mode-advanced'})\n",
    "    sleep(randint(2,8))\n",
    "    \n",
    "    for item in movie_data:\n",
    "        name = item.h3.a.text\n",
    "        movie_name.append(name)\n",
    "        \n",
    "        year_of_release = item.h3.find('span', class_ = \"lister-item-year text-muted unbold\").text\n",
    "        year.append(year_of_release)\n",
    "        \n",
    "        runtime = item.p.find(\"span\", class_ = 'runtime').text\n",
    "        time.append(runtime)\n",
    "        \n",
    "        rate = item.find('div', class_ = \"inline-block ratings-imdb-rating\").text.replace('\\n', '')\n",
    "        rating.append(rate)\n",
    "        \n",
    "        meta = item.find('span', class_ = \"metascore\").text if item.find('span', class_ = \"metascore\") else \"\"\n",
    "        metascore.append(meta)\n",
    "        \n",
    "        \n",
    "        value = item.find_all('span', attrs = {'name': \"nv\"})\n",
    "        \n",
    "        vote = value[0].text\n",
    "        votes.append(vote)\n",
    "        \n",
    "        grosses = value[1].text if len(value)>1 else ''\n",
    "        gross.append(grosses)\n",
    "        \n",
    "        \n",
    "        describe = item.find_all('p', class_ = 'text-muted')\n",
    "        description_ = describe[1].text.replace('\\n', '') if len(describe) >1 else ''\n",
    "        description.append(description_)\n"
   ]
  },
  {
   "cell_type": "code",
   "execution_count": 22,
   "id": "c62b6b26",
   "metadata": {},
   "outputs": [],
   "source": [
    "movie_df =pd.DataFrame({\n",
    "    \n",
    "                       \"Movie Name\": movie_name,\n",
    "                       \"Year of Release\": year, \n",
    "                       \"Watch Time\": time,\n",
    "                       \"Movie Rating\": rating, \n",
    "                       \"Metascore of movie\": metascore,\n",
    "                       \"Votes\": votes, \n",
    "                       \"Gross Income\": gross,\n",
    "                        \"Description\": description\n",
    "                       })"
   ]
  },
  {
   "cell_type": "code",
   "execution_count": 23,
   "id": "75fbb282",
   "metadata": {},
   "outputs": [
    {
     "data": {
      "text/html": [
       "<div>\n",
       "<style scoped>\n",
       "    .dataframe tbody tr th:only-of-type {\n",
       "        vertical-align: middle;\n",
       "    }\n",
       "\n",
       "    .dataframe tbody tr th {\n",
       "        vertical-align: top;\n",
       "    }\n",
       "\n",
       "    .dataframe thead th {\n",
       "        text-align: right;\n",
       "    }\n",
       "</style>\n",
       "<table border=\"1\" class=\"dataframe\">\n",
       "  <thead>\n",
       "    <tr style=\"text-align: right;\">\n",
       "      <th></th>\n",
       "      <th>Movie Name</th>\n",
       "      <th>Year of Release</th>\n",
       "      <th>Watch Time</th>\n",
       "      <th>Movie Rating</th>\n",
       "      <th>Metascore of movie</th>\n",
       "      <th>Votes</th>\n",
       "      <th>Gross Income</th>\n",
       "      <th>Description</th>\n",
       "    </tr>\n",
       "  </thead>\n",
       "  <tbody>\n",
       "    <tr>\n",
       "      <th>0</th>\n",
       "      <td>The Shawshank Redemption</td>\n",
       "      <td>(1994)</td>\n",
       "      <td>142 min</td>\n",
       "      <td>9.3</td>\n",
       "      <td>82</td>\n",
       "      <td>2,798,876</td>\n",
       "      <td>$28.34M</td>\n",
       "      <td>Over the course of several years, two convicts...</td>\n",
       "    </tr>\n",
       "    <tr>\n",
       "      <th>1</th>\n",
       "      <td>The Godfather</td>\n",
       "      <td>(1972)</td>\n",
       "      <td>175 min</td>\n",
       "      <td>9.2</td>\n",
       "      <td>100</td>\n",
       "      <td>1,949,996</td>\n",
       "      <td>$134.97M</td>\n",
       "      <td>Don Vito Corleone, head of a mafia family, dec...</td>\n",
       "    </tr>\n",
       "    <tr>\n",
       "      <th>2</th>\n",
       "      <td>The Dark Knight</td>\n",
       "      <td>(2008)</td>\n",
       "      <td>152 min</td>\n",
       "      <td>9.0</td>\n",
       "      <td>84</td>\n",
       "      <td>2,780,083</td>\n",
       "      <td>$534.86M</td>\n",
       "      <td>When the menace known as the Joker wreaks havo...</td>\n",
       "    </tr>\n",
       "    <tr>\n",
       "      <th>3</th>\n",
       "      <td>Schindler's List</td>\n",
       "      <td>(1993)</td>\n",
       "      <td>195 min</td>\n",
       "      <td>9.0</td>\n",
       "      <td>95</td>\n",
       "      <td>1,407,123</td>\n",
       "      <td>$96.90M</td>\n",
       "      <td>In German-occupied Poland during World War II,...</td>\n",
       "    </tr>\n",
       "    <tr>\n",
       "      <th>4</th>\n",
       "      <td>The Godfather Part II</td>\n",
       "      <td>(1974)</td>\n",
       "      <td>202 min</td>\n",
       "      <td>9.0</td>\n",
       "      <td>90</td>\n",
       "      <td>1,324,390</td>\n",
       "      <td>$57.30M</td>\n",
       "      <td>The early life and career of Vito Corleone in ...</td>\n",
       "    </tr>\n",
       "  </tbody>\n",
       "</table>\n",
       "</div>"
      ],
      "text/plain": [
       "                 Movie Name Year of Release Watch Time Movie Rating  \\\n",
       "0  The Shawshank Redemption          (1994)    142 min          9.3   \n",
       "1             The Godfather          (1972)    175 min          9.2   \n",
       "2           The Dark Knight          (2008)    152 min          9.0   \n",
       "3          Schindler's List          (1993)    195 min          9.0   \n",
       "4     The Godfather Part II          (1974)    202 min          9.0   \n",
       "\n",
       "  Metascore of movie      Votes Gross Income  \\\n",
       "0         82          2,798,876      $28.34M   \n",
       "1        100          1,949,996     $134.97M   \n",
       "2         84          2,780,083     $534.86M   \n",
       "3         95          1,407,123      $96.90M   \n",
       "4         90          1,324,390      $57.30M   \n",
       "\n",
       "                                         Description  \n",
       "0  Over the course of several years, two convicts...  \n",
       "1  Don Vito Corleone, head of a mafia family, dec...  \n",
       "2  When the menace known as the Joker wreaks havo...  \n",
       "3  In German-occupied Poland during World War II,...  \n",
       "4  The early life and career of Vito Corleone in ...  "
      ]
     },
     "execution_count": 23,
     "metadata": {},
     "output_type": "execute_result"
    }
   ],
   "source": [
    "movie_df.head(5)"
   ]
  },
  {
   "cell_type": "code",
   "execution_count": 24,
   "id": "7be9a486",
   "metadata": {},
   "outputs": [],
   "source": [
    "movie_df.to_excel(\"Top 1000 movies from IMDb.xlsx\")\n"
   ]
  },
  {
   "cell_type": "code",
   "execution_count": null,
   "id": "bbafc91f",
   "metadata": {},
   "outputs": [],
   "source": []
  },
  {
   "cell_type": "code",
   "execution_count": null,
   "id": "d587a408",
   "metadata": {},
   "outputs": [],
   "source": []
  }
 ],
 "metadata": {
  "kernelspec": {
   "display_name": "Python 3 (ipykernel)",
   "language": "python",
   "name": "python3"
  },
  "language_info": {
   "codemirror_mode": {
    "name": "ipython",
    "version": 3
   },
   "file_extension": ".py",
   "mimetype": "text/x-python",
   "name": "python",
   "nbconvert_exporter": "python",
   "pygments_lexer": "ipython3",
   "version": "3.9.13"
  }
 },
 "nbformat": 4,
 "nbformat_minor": 5
}
